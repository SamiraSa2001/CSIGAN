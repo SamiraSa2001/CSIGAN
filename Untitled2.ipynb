{
  "cells": [
    {
      "cell_type": "markdown",
      "metadata": {
        "id": "view-in-github",
        "colab_type": "text"
      },
      "source": [
        "<a href=\"https://colab.research.google.com/github/SamiraSa2001/CSIGAN/blob/main/Untitled2.ipynb\" target=\"_parent\"><img src=\"https://colab.research.google.com/assets/colab-badge.svg\" alt=\"Open In Colab\"/></a>"
      ]
    },
    {
      "cell_type": "code",
      "execution_count": 1,
      "metadata": {
        "colab": {
          "base_uri": "https://localhost:8080/"
        },
        "id": "iUyrPkeo7STH",
        "outputId": "6344a428-748f-491d-8944-19aa8fa1ea4b"
      },
      "outputs": [
        {
          "output_type": "stream",
          "name": "stdout",
          "text": [
            "Cloning into 'CsiGAN'...\n",
            "remote: Enumerating objects: 122, done.\u001b[K\n",
            "remote: Counting objects: 100% (45/45), done.\u001b[K\n",
            "remote: Compressing objects: 100% (45/45), done.\u001b[K\n",
            "remote: Total 122 (delta 19), reused 1 (delta 0), pack-reused 77\u001b[K\n",
            "Receiving objects: 100% (122/122), 519.27 KiB | 4.48 MiB/s, done.\n",
            "Resolving deltas: 100% (49/49), done.\n"
          ]
        }
      ],
      "source": [
        "!git clone https://github.com/ChunjingXiao/CsiGAN.git"
      ]
    },
    {
      "cell_type": "code",
      "execution_count": 2,
      "metadata": {
        "colab": {
          "base_uri": "https://localhost:8080/"
        },
        "id": "FQgiCb-_5mTi",
        "outputId": "486cb479-07ca-4590-c14a-a40894967bc4"
      },
      "outputs": [
        {
          "output_type": "stream",
          "name": "stdout",
          "text": [
            "/content/CsiGAN\n"
          ]
        }
      ],
      "source": [
        "%cd CsiGAN/"
      ]
    },
    {
      "cell_type": "code",
      "execution_count": 3,
      "metadata": {
        "colab": {
          "base_uri": "https://localhost:8080/"
        },
        "id": "2NvBtfUl5vlT",
        "outputId": "42664e0f-5d9c-4ec9-99df-949953a13334"
      },
      "outputs": [
        {
          "output_type": "stream",
          "name": "stdout",
          "text": [
            "/content/CsiGAN/CsiGANSemiSupervisedGAN\n"
          ]
        }
      ],
      "source": [
        "%cd CsiGANSemiSupervisedGAN"
      ]
    },
    {
      "cell_type": "code",
      "execution_count": 5,
      "metadata": {
        "colab": {
          "base_uri": "https://localhost:8080/"
        },
        "id": "i0Geic9qO1RT",
        "outputId": "fddef72d-3413-4260-8df9-3d8c911e5667"
      },
      "outputs": [
        {
          "output_type": "stream",
          "name": "stdout",
          "text": [
            "(200, 30, 3, 250)\n",
            "(250, 200, 30, 3)\n",
            "done!\n",
            "Traceback (most recent call last):\n",
            "  File \"/usr/local/lib/python3.10/dist-packages/scipy/io/matlab/_mio.py\", line 39, in _open_file\n",
            "    return open(file_like, mode), True\n",
            "FileNotFoundError: [Errno 2] No such file or directory: 'data/csi_tensorTrain.mat'\n",
            "\n",
            "During handling of the above exception, another exception occurred:\n",
            "\n",
            "Traceback (most recent call last):\n",
            "  File \"/content/CsiGAN/CsiGANSemiSupervisedGAN/1mat2npyCSI.py\", line 34, in <module>\n",
            "    saveNpyData(fileName)\n",
            "  File \"/content/CsiGAN/CsiGANSemiSupervisedGAN/1mat2npyCSI.py\", line 8, in saveNpyData\n",
            "    mat = sio.loadmat(path)\n",
            "  File \"/usr/local/lib/python3.10/dist-packages/scipy/io/matlab/_mio.py\", line 225, in loadmat\n",
            "    with _open_file_context(file_name, appendmat) as f:\n",
            "  File \"/usr/lib/python3.10/contextlib.py\", line 135, in __enter__\n",
            "    return next(self.gen)\n",
            "  File \"/usr/local/lib/python3.10/dist-packages/scipy/io/matlab/_mio.py\", line 17, in _open_file_context\n",
            "    f, opened = _open_file(file_like, appendmat, mode)\n",
            "  File \"/usr/local/lib/python3.10/dist-packages/scipy/io/matlab/_mio.py\", line 45, in _open_file\n",
            "    return open(file_like, mode), True\n",
            "FileNotFoundError: [Errno 2] No such file or directory: 'data/csi_tensorTrain.mat'\n"
          ]
        }
      ],
      "source": [
        "!python3 1mat2npyCSI.py"
      ]
    }
  ],
  "metadata": {
    "colab": {
      "provenance": [],
      "authorship_tag": "ABX9TyP32P6YIWrJmvmNM7Kk7nG7",
      "include_colab_link": true
    },
    "kernelspec": {
      "display_name": "Python 3",
      "name": "python3"
    },
    "language_info": {
      "name": "python"
    }
  },
  "nbformat": 4,
  "nbformat_minor": 0
}